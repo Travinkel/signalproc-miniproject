{
 "cells": [
  {
   "cell_type": "code",
   "id": "initial_id",
   "metadata": {
    "collapsed": true,
    "ExecuteTime": {
     "end_time": "2025-10-05T15:23:18.496740Z",
     "start_time": "2025-10-05T15:23:18.491887Z"
    }
   },
   "source": [
    "# Common imports\n",
    "import numpy as np\n",
    "import matplotlib.pyplot as plt\n",
    "import scipy.signal as signal\n",
    "\n",
    "# Networking/packet analysis\n",
    "import pyshark\n",
    "import scapy.all as scapy\n",
    "import networkx as nx\n",
    "\n",
    "# Helper: inline plots\n",
    "%matplotlib inline\n"
   ],
   "outputs": [],
   "execution_count": 7
  },
  {
   "metadata": {},
   "cell_type": "markdown",
   "source": [
    "# ARP Scope Analyzer — Broadcast and Unicast in Practice\n",
    "\n",
    "**Goal:** Analyze how Address Resolution Protocol (ARP) frames spread through a network and how the **physical layer limitations** studied in previous labs constrain this communication.\n",
    "\n",
    "**Connection to Previous Labs:**\n",
    "- *From Lab 01 (NyquistLab):* Reliable sampling ensures each bit of the Ethernet frame is interpreted correctly.\n",
    "- *From Lab 02 (WireScope):* Proper termination prevents reflections that could corrupt ARP frames on the wire.\n",
    "- *Now in Lab 03:* We move up one layer — the **Data Link & Network** layers — to see how those bits form structured packets (ARP requests/replies) and how far those packets propagate."
   ],
   "id": "20797ddb1da1777f"
  },
  {
   "metadata": {},
   "cell_type": "markdown",
   "source": [
    "### Why a PCAP?\n",
    "We use an offline capture file (.pcap) so this lab runs without raw socket privileges. If the sample file is missing, we will generate a tiny ARP request+reply using Scapy and save it to data/arp_sample.pcap.\n"
   ],
   "id": "caaf19220f97dc59"
  },
  {
   "metadata": {},
   "cell_type": "code",
   "outputs": [],
   "execution_count": null,
   "source": [
    "from pathlib import Path\n",
    "from datetime import datetime\n",
    "from collections import Counter\n",
    "\n",
    "pcap_path = Path('../data/arp_sample.pcap') if Path('.').resolve().name == 'notebooks' else Path('data/arp_sample.pcap')\n",
    "\n",
    "# Try to generate a minimal ARP exchange if file not present\n",
    "try:\n",
    "    from scapy.all import Ether, ARP, wrpcap, rdpcap\n",
    "except Exception as e:\n",
    "    raise RuntimeError(f\"Scapy import failed: {e}\")\n",
    "\n",
    "if not pcap_path.exists():\n",
    "    # Build ARP who-has and is-at\n",
    "    req = Ether(dst='ff:ff:ff:ff:ff:ff', src='00:11:22:33:44:55')/ARP(op=1, hwsrc='00:11:22:33:44:55', psrc='192.168.1.10', pdst='192.168.1.1')\n",
    "    rep = Ether(dst='00:11:22:33:44:55', src='aa:bb:cc:dd:ee:ff')/ARP(op=2, hwsrc='aa:bb:cc:dd:ee:ff', psrc='192.168.1.1', pdst='192.168.1.10', hwdst='00:11:22:33:44:55')\n",
    "    wrpcap(str(pcap_path), [req, rep])\n",
    "\n",
    "# Load with Scapy (works in CI without tshark)\n",
    "pkts = rdpcap(str(pcap_path))\n",
    "arp_pkts = [p for p in pkts if p.haslayer(ARP)]\n",
    "print(f\"Loaded {len(arp_pkts)} ARP frames from {pcap_path}\")\n"
   ],
   "id": "10f1c64e6b64b03c"
  },
  {
   "metadata": {},
   "cell_type": "markdown",
   "source": [
    "### 🔍 Prediction\n",
    "Before running the parsing below, answer:\n",
    "- Which frame(s) will be broadcast at Layer 2?\n",
    "- Which frame(s) will be unicast?\n",
    "- What MAC will reply, and to whom?\n"
   ],
   "id": "7a83d124c6718f3f"
  },
  {
   "metadata": {},
   "cell_type": "code",
   "outputs": [],
   "execution_count": null,
   "source": [
    "# Parse ARP info into a simple table and counters\n",
    "rows = []\n",
    "op_map = {1:'request', 2:'reply'}\n",
    "for i, p in enumerate(arp_pkts):\n",
    "    eth = p[Ether]\n",
    "    a = p[ARP]\n",
    "    rows.append({\n",
    "        'idx': i,\n",
    "        'op': op_map.get(int(a.op), str(a.op)),\n",
    "        'src_ip': a.psrc,\n",
    "        'src_mac': a.hwsrc,\n",
    "        'dst_ip': a.pdst,\n",
    "        'dst_mac': a.hwdst if hasattr(a, 'hwdst') else eth.dst,\n",
    "        'l2_broadcast': eth.dst.lower() == 'ff:ff:ff:ff:ff:ff'\n",
    "    })\n",
    "\n",
    "from pprint import pprint\n",
    "pprint(rows)\n",
    "\n",
    "op_counts = Counter(r['op'] for r in rows)\n",
    "print('Opcode counts:', op_counts)\n",
    "print('Broadcast frames:', sum(r['l2_broadcast'] for r in rows))\n"
   ],
   "id": "b9c2c8d9ae8dc1cf"
  },
  {
   "metadata": {},
   "cell_type": "markdown",
   "source": [
    "### 🧠 How to Read This Output\n",
    "- ARP request is L2 broadcast to ff:ff:ff:ff:ff:ff asking \"Who has target IP?\"\n",
    "- ARP reply is L2 unicast back to the asker, carrying the responder MAC.\n",
    "- Physical limitations (Labs 01–02) still apply: if the underlying link can’t sample/terminate correctly, these frames corrupt.\n"
   ],
   "id": "1266c03bc1a7f591"
  },
  {
   "metadata": {},
   "cell_type": "code",
   "outputs": [],
   "execution_count": null,
   "source": [
    "# Simple timeline plot (index as proxy for time in our tiny sample)\n",
    "plt.figure(figsize=(7,3))\n",
    "colors = {'request':'tab:orange','reply':'tab:green'}\n",
    "for r in rows:\n",
    "    y = 1 if r['op']=='request' else 0\n",
    "    plt.scatter(r['idx'], y, c=colors[r['op']], s=80)\n",
    "plt.yticks([0,1],[\"reply\",\"request\"])\n",
    "plt.xlabel('Frame index'); plt.title('ARP mini-timeline (request → reply)'); plt.grid(True, axis='y'); plt.show()\n"
   ],
   "id": "ea9879c340aefb99"
  },
  {
   "metadata": {},
   "cell_type": "markdown",
   "source": [
    "### 🌐 Broadcast Domain Visualization\n",
    "We can draw a tiny graph: IP nodes connected via their MACs. Requests fan out (broadcast), replies return (unicast).\n"
   ],
   "id": "1aaa305a89926866"
  },
  {
   "metadata": {},
   "cell_type": "code",
   "outputs": [],
   "execution_count": null,
   "source": [
    "import networkx as nx\n",
    "G = nx.DiGraph()\n",
    "for r in rows:\n",
    "    s = f\"{r['src_ip']}\\n{r['src_mac']}\"\n",
    "    d = f\"{r['dst_ip']}\\n{r['dst_mac']}\" if not r['l2_broadcast'] else 'broadcast'\n",
    "    G.add_edge(s, d, label=r['op'])\n",
    "\n",
    "pos = nx.spring_layout(G, seed=1)\n",
    "plt.figure(figsize=(8,5))\n",
    "nx.draw(G, pos, with_labels=True, node_color='#eef', node_size=1200, arrows=True)\n",
    "edge_labels = nx.get_edge_attributes(G,'label')\n",
    "nx.draw_networkx_edge_labels(G, pos, edge_labels=edge_labels)\n",
    "plt.title('ARP request/reply flow'); plt.axis('off'); plt.show()\n"
   ],
   "id": "ba5d881ecb4c7f1e"
  },
  {
   "metadata": {},
   "cell_type": "markdown",
   "source": [
    "### ✅ Quick Self-Check\n",
    "1) Which ARP frame is broadcast? Why?  \n",
    "2) In the reply, which fields bind IP to MAC?  \n",
    "3) How would a switch treat the broadcast vs the unicast?  \n",
    "4) How could physical-layer issues from Labs 01–02 break ARP?\n"
   ],
   "id": "c6210a0038fcc852"
  },
  {
   "metadata": {},
   "cell_type": "markdown",
   "source": [
    "## Summary — From Packets to Physics\n",
    "- ARP requests are broadcast; replies are unicast.  \n",
    "- This mapping populates the ARP cache, enabling unicast IP traffic.  \n",
    "- All of it rides on a physical link obeying Nyquist and proper termination; otherwise, frames error and ARP retries increase."
   ],
   "id": "d8889bf830bca87e"
  }
 ],
 "metadata": {
  "kernelspec": {
   "display_name": "Python 3",
   "language": "python",
   "name": "python3"
  },
  "language_info": {
   "codemirror_mode": {
    "name": "ipython",
    "version": 2
   },
   "file_extension": ".py",
   "mimetype": "text/x-python",
   "name": "python",
   "nbconvert_exporter": "python",
   "pygments_lexer": "ipython2",
   "version": "2.7.6"
  }
 },
 "nbformat": 4,
 "nbformat_minor": 5
}
