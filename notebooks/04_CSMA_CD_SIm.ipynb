{
 "cells": [
  {
   "cell_type": "code",
   "execution_count": null,
   "id": "initial_id",
   "metadata": {
    "collapsed": true
   },
   "outputs": [],
   "source": [
    "# Common imports\n",
    "import numpy as np\n",
    "import matplotlib.pyplot as plt\n",
    "import scipy.signal as signal\n",
    "\n",
    "# Networking/packet analysis\n",
    "import pyshark\n",
    "import scapy.all as scapy\n",
    "import networkx as nx\n",
    "\n",
    "# Helper: inline plots\n",
    "%matplotlib inline\n"
   ]
  },
  {
   "metadata": {},
   "cell_type": "markdown",
   "source": [
    "# CSMA/CD Simulator — Collisions vs Throughput\n",
    "\n",
    "**Goal:** Discrete-event sim of Ethernet with random backoff.\n"
   ],
   "id": "f176fb7eddaf4c4a"
  },
  {
   "metadata": {},
   "cell_type": "code",
   "outputs": [],
   "execution_count": null,
   "source": [
    "# TODO: Simulate N nodes with slot-based transmission.\n",
    "# TODO: Record collisions, throughput vs offered load.\n",
    "# HINT: Use random.randint for backoff windows.\n"
   ],
   "id": "b675bfed24437c4"
  }
 ],
 "metadata": {
  "kernelspec": {
   "display_name": "Python 3",
   "language": "python",
   "name": "python3"
  },
  "language_info": {
   "codemirror_mode": {
    "name": "ipython",
    "version": 2
   },
   "file_extension": ".py",
   "mimetype": "text/x-python",
   "name": "python",
   "nbconvert_exporter": "python",
   "pygments_lexer": "ipython2",
   "version": "2.7.6"
  }
 },
 "nbformat": 4,
 "nbformat_minor": 5
}
