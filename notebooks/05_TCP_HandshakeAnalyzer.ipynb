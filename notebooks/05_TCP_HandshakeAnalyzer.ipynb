{
 "cells": [
  {
   "cell_type": "code",
   "id": "initial_id",
   "metadata": {
    "collapsed": true,
    "ExecuteTime": {
     "end_time": "2025-10-06T15:07:37.180155Z",
     "start_time": "2025-10-06T15:07:37.173152Z"
    }
   },
   "source": [
    "# Load a capture file or example packets\n",
    "# Expected: either a pyshark.FileCapture, a list of packets, or an iterable\n",
    "# If you have a file 'data/sample.pcapng', set cap to a FileCapture; otherwise,\n",
    "# provide guidance friendly defaults so the notebook runs without TypeError.\n",
    "from typing import Iterable\n",
    "\n",
    "cap = None  # will be set to an iterable of packets later\n",
    "\n",
    "# Common imports\n",
    "import numpy as np\n",
    "import matplotlib.pyplot as plt\n",
    "import scipy.signal as signal\n",
    "from datetime import datetime\n",
    "\n",
    "# Networking/packet analysis\n",
    "import pyshark\n",
    "import scapy.all as scapy\n",
    "import networkx as nx\n",
    "\n",
    "# Helper: inline plots\n",
    "%matplotlib inline\n"
   ],
   "outputs": [],
   "execution_count": 11
  },
  {
   "metadata": {},
   "cell_type": "markdown",
   "source": [
    "# TCP Handshake Analyzer — Measuring Connection Setup\n",
    "\n",
    "**Goal:** Parse and visualize the three-way handshake (SYN → SYN-ACK → ACK) in a packet capture, compute RTT, and understand retransmissions.\n",
    "\n",
    "**Connection to previous labs**\n",
    "- From WireScope & CSMA/CD → bit-level timing and collisions influence latency.\n",
    "- From ARP Scope → IP and MAC resolution must finish before handshake starts.\n",
    "- Now → we inspect the *transport layer* behavior that rides on those physical realities.\n"
   ],
   "id": "2cb040cba11f3128"
  },
  {
   "metadata": {
    "ExecuteTime": {
     "end_time": "2025-10-06T15:07:37.509448Z",
     "start_time": "2025-10-06T15:07:37.207665Z"
    }
   },
   "cell_type": "code",
   "source": [
    "def find_handshakes(capture):\n",
    "    handshakes = []\n",
    "    flows = {}\n",
    "    for pkt in capture:\n",
    "        if 'TCP' not in pkt: continue\n",
    "        flags = pkt.tcp.flags\n",
    "        ts = float(pkt.sniff_timestamp)\n",
    "        src, dst = pkt.ip.src, pkt.ip.dst\n",
    "        key = tuple(sorted([src, dst]))     # bidirectional key\n",
    "\n",
    "        if flags == '0x0002':               # SYN\n",
    "            flows[key] = {'syn': ts}\n",
    "        elif flags == '0x0012' and key in flows:   # SYN-ACK\n",
    "            flows[key]['synack'] = ts\n",
    "        elif flags == '0x0010' and key in flows:   # ACK\n",
    "            flows[key]['ack'] = ts\n",
    "            handshakes.append(flows[key])\n",
    "            del flows[key]\n",
    "    return handshakes\n",
    "\n",
    "# Resolve capture source: if a local PCAP exists, use it; otherwise, synthesize a tiny example iterable\n",
    "try:\n",
    "    if cap is None:\n",
    "        import os\n",
    "        sample_path = os.path.join(os.path.dirname(os.path.dirname(__file__)), 'data', 'sample.pcapng') if '__file__' in globals() else 'data/sample.pcapng'\n",
    "        if isinstance(sample_path, str) and os.path.exists(sample_path):\n",
    "            cap = pyshark.FileCapture(sample_path, keep_packets=False)\n",
    "        else:\n",
    "            # Minimal synthetic packets with the attributes we access below\n",
    "            class P:\n",
    "                def __init__(self, ts, src, dst, flags, dport=443):\n",
    "                    self.sniff_timestamp = str(ts)\n",
    "                    self.ip = type('ip', (), {'src': src, 'dst': dst})()\n",
    "                    self.tcp = type('tcp', (), {'flags': flags, 'dstport': dport})()\n",
    "                def __contains__(self, item):\n",
    "                    return item == 'TCP'\n",
    "            now = 1_700_000_000.0\n",
    "            cap = [\n",
    "                P(now+0.000, '10.0.0.2', '10.0.0.5', '0x0002'),   # SYN\n",
    "                P(now+0.025, '10.0.0.5', '10.0.0.2', '0x0012'),   # SYN-ACK\n",
    "                P(now+0.030, '10.0.0.2', '10.0.0.5', '0x0010'),   # ACK\n",
    "            ]\n",
    "except Exception as e:\n",
    "    # Fallback to empty list to avoid TypeError in iteration\n",
    "    cap = []\n",
    "\n",
    "handshakes = find_handshakes(cap)\n",
    "print(f\"Detected {len(handshakes)} complete handshakes\")\n",
    "\n",
    "# Guard against empty datasets\n",
    "if not handshakes:\n",
    "    print(\"No complete handshakes found. Ensure 'data/sample.pcapng' exists or set 'cap' to a pyshark capture.\")\n",
    "    rtts = []\n",
    "else:\n",
    "    rtts = [hs['synack'] - hs['syn'] for hs in handshakes]\n",
    "plt.hist(np.array(rtts)*1000, bins=20, color='skyblue', edgecolor='black')\n",
    "plt.xlabel(\"RTT (SYN → SYN-ACK) [ms]\")\n",
    "plt.ylabel(\"Connections count\")\n",
    "plt.title(\"TCP Handshake Round-Trip Times\")\n",
    "plt.show()\n",
    "\n",
    "if rtts:\n",
    "    print(f\"Average RTT ≈ {np.mean(rtts)*1000:.2f} ms\")\n",
    "else:\n",
    "    print(\"Average RTT: N/A (no handshakes)\")\n",
    "\n",
    "def count_syn_retransmissions(capture):\n",
    "    syn_times = {}\n",
    "    retrans = 0\n",
    "    for pkt in capture:\n",
    "        if 'TCP' not in pkt: continue\n",
    "        if pkt.tcp.flags == '0x0002':\n",
    "            key = (pkt.ip.src, pkt.ip.dst, pkt.tcp.dstport)\n",
    "            if key in syn_times and float(pkt.sniff_timestamp)-syn_times[key] > 0.5:\n",
    "                retrans += 1\n",
    "            syn_times[key] = float(pkt.sniff_timestamp)\n",
    "    return retrans\n",
    "\n",
    "try:\n",
    "    print(\"SYN retransmissions:\", count_syn_retransmissions(cap))\n",
    "except TypeError:\n",
    "    print(\"SYN retransmissions: N/A (invalid capture type)\")\n"
   ],
   "id": "1bda6bceea075eb7",
   "outputs": [
    {
     "name": "stdout",
     "output_type": "stream",
     "text": [
      "Detected 1 complete handshakes\n"
     ]
    },
    {
     "data": {
      "text/plain": [
       "<Figure size 640x480 with 1 Axes>"
      ],
      "image/png": "[encoded data removed]"
     },
     "metadata": {},
     "output_type": "display_data"
    },
    {
     "name": "stdout",
     "output_type": "stream",
     "text": [
      "Average RTT ≈ 25.00 ms\n",
      "SYN retransmissions: 0\n"
     ]
    }
   ],
   "execution_count": 12
  },
  {
   "metadata": {},
   "cell_type": "markdown",
   "source": [
    "### 🧠 Interpreting the handshake\n",
    "\n",
    "1. **SYN** → Client proposes initial sequence number.\n",
    "2. **SYN-ACK** → Server acknowledges and proposes its own.\n",
    "3. **ACK** → Client confirms; connection established.\n",
    "\n",
    "- The time between SYN and SYN-ACK ≈ RTT.\n",
    "- Multiple SYNs → possible packet loss or congestion.\n",
    "- Each retransmission adds delay to the user’s first byte latency.\n"
   ],
   "id": "207f026f53f5746e"
  },
  {
   "metadata": {},
   "cell_type": "markdown",
   "source": [
    "### 🌐 Link back to the lower labs\n",
    "- If **reflections** or **collisions** (WireScope / CSMA-CD) occur, they increase the apparent RTT or trigger SYN retries.\n",
    "- If **ARP** is unresolved, the SYN is delayed until the MAC address is known.\n",
    "- At the physical level, jitter or aliasing of the clock (NyquistLab) manifests as packet-timing variability.\n",
    "- Thus, the TCP handshake is a transport-layer mirror of your entire stack’s health.\n"
   ],
   "id": "ceb82adae7a736f1"
  },
  {
   "metadata": {},
   "cell_type": "markdown",
   "source": [
    "1. What are the three steps of the TCP handshake?\n",
    "2. What does a missing SYN-ACK indicate?\n",
    "3. How could a physical-layer reflection or CSMA/CD collision show up in this analysis?\n",
    "4. Why do modern networks measure RTT to adjust TCP window size?\n"
   ],
   "id": "629136013dad8d03"
  },
  {
   "metadata": {},
   "cell_type": "markdown",
   "source": [
    "**Summary — Synchronization Across the Stack**\n",
    "\n",
    "- TCP handshake turns electrical pulses into a reliable session.\n",
    "- Each lab below contributes:\n",
    "  Nyquist → timing integrity WireScope → signal integrity ARP → reachability CSMA/CD → medium discipline.\n",
    "- Now we see how transport protocols depend on those physical truths.\n"
   ],
   "id": "dac8fa68de8487fb"
  }
 ],
 "metadata": {
  "kernelspec": {
   "display_name": "Python 3",
   "language": "python",
   "name": "python3"
  },
  "language_info": {
   "codemirror_mode": {
    "name": "ipython",
    "version": 2
   },
   "file_extension": ".py",
   "mimetype": "text/x-python",
   "name": "python",
   "nbconvert_exporter": "python",
   "pygments_lexer": "ipython2",
   "version": "2.7.6"
  }
 },
 "nbformat": 4,
 "nbformat_minor": 5
}
