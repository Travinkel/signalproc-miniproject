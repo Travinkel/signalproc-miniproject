{
 "cells": [
  {
   "metadata": {},
   "cell_type": "markdown",
   "source": [
    "# WireScope — Transmission Line Reflections\n",
    "\n",
    "**Goal:** Understand how impedance mismatches create signal reflections on a cable and why Ethernet and similar networks must terminate cables correctly.\n",
    "\n",
    "By the end, you will:\n",
    "1. Compute the **reflection coefficient** \\( \\Gamma = \\frac{Z_L - Z_0}{Z_L + Z_0} \\)\n",
    "2. Simulate a pulse reflecting on open, shorted, and matched loads.\n",
    "3. Relate reflection timing to **cable length** and **signal velocity**.\n",
    "4. Explain how these reflections cause bit errors and define the **collision domain** in networks."
   ],
   "id": "7317556a8a6f2500"
  },
  {
   "cell_type": "code",
   "id": "initial_id",
   "metadata": {
    "collapsed": true,
    "ExecuteTime": {
     "end_time": "2025-10-05T15:15:47.109630Z",
     "start_time": "2025-10-05T15:15:47.105246Z"
    }
   },
   "source": [
    "# Common imports\n",
    "import numpy as np\n",
    "import matplotlib.pyplot as plt\n",
    "import scipy.signal as signal\n",
    "from ipywidgets import interact, FloatSlider\n",
    "\n",
    "# Networking/packet analysis\n",
    "import pyshark\n",
    "import scapy.all as scapy\n",
    "import networkx as nx\n",
    "\n",
    "# Helper: inline plots\n",
    "%matplotlib inline\n"
   ],
   "outputs": [],
   "execution_count": 23
  },
  {
   "metadata": {},
   "cell_type": "markdown",
   "source": [
    "# WireScope — Transmission Line Reflections\n",
    "\n",
    "**Goal:** Visualize how signal reflections occur when a digital pulse meets an impedance mismatch on a transmission line.\n",
    "\n",
    "This lab connects signal physics with networking hardware (Ethernet, coax, twisted-pair, etc.).\n",
    "You’ll simulate:\n",
    "1. A pulse traveling down a cable.\n",
    "2. How reflections arise when the far-end impedance differs.\n",
    "3. How termination and cable length affect signal quality.\n",
    "\n",
    "We'll relate these to **Ethernet PHY** requirements — why 50Ω coax and twisted-pair impedance matching matters.\n"
   ],
   "id": "97a2ff30580da830"
  },
  {
   "metadata": {
    "ExecuteTime": {
     "end_time": "2025-10-05T15:15:47.155742Z",
     "start_time": "2025-10-05T15:15:47.149668Z"
    }
   },
   "cell_type": "code",
   "source": [
    "# Define Physical Model\n",
    "\n",
    "# Cable parameters\n",
    "v = 2e8 # propagation velocity\n",
    "Z0 = 50 # characteristic impedance (ohms)\n",
    "length = 100 # cable length in meters\n",
    "dt = 1e-9 # time step (1 ns)\n",
    "t = np.arange(0, 2*length/v, dt) # simulate one round-trip\n",
    "\n",
    "# Source and load impedance\n",
    "Zs = 50 # source impedance (ohms)\n",
    "ZL_open = 1e6 # open circuit\n",
    "ZL_match = 50 # matched load\n",
    "ZL_short = 1e-6 # short circuit\n",
    "\n",
    "# Compute Reflection Coefficient\n",
    "def reflection_coefficient(ZL, Z0):\n",
    "\treturn (ZL - Z0) / (ZL + Z0)\n",
    "\n",
    "Gamma_open = reflection_coefficient(ZL_open, Z0)\n",
    "Gamma_match = reflection_coefficient(ZL_match, Z0)\n",
    "Gamma_short = reflection_coefficient(ZL_short, Z0)\n",
    "\n",
    "print(f\"Open: {Gamma_open:.2f}, Match: {Gamma_match:.2f}, Short: {Gamma_short:.2f}\")"
   ],
   "id": "65757942490145aa",
   "outputs": [
    {
     "name": "stdout",
     "output_type": "stream",
     "text": [
      "Open: 1.00, Match: 0.00, Short: -1.00\n"
     ]
    }
   ],
   "execution_count": 24
  },
  {
   "metadata": {
    "ExecuteTime": {
     "end_time": "2025-10-05T15:15:47.187585Z",
     "start_time": "2025-10-05T15:15:47.185250Z"
    }
   },
   "cell_type": "code",
   "source": "",
   "id": "f71688e29e199ec2",
   "outputs": [],
   "execution_count": null
  },
  {
   "metadata": {},
   "cell_type": "code",
   "outputs": [],
   "execution_count": null,
   "source": [
    "# Simulate a pulse traveling down the line\n",
    "# We emit a finite-width pulse and model its far-end reflection arriving after 2*length/v.\n",
    "# The reflection window must be u(t - delay) - u(t - (delay + width)).\n",
    "# We also extend plotting to highlight the reflection time.\n",
    "def simulate_reflection(ZL, Z0, t, length, v, pulse_width=50e-9):\n",
    "    Gamma = reflection_coefficient(ZL, Z0)\n",
    "    # launch pulse at t=0\n",
    "    pulse = np.heaviside(t, 1) - np.heaviside(t - pulse_width, 1)\n",
    "\n",
    "    # reflection occurs after round-trip time (2 * length / v)\n",
    "    delay = 2 * length / v\n",
    "    reflected_window = (np.heaviside(t - delay, 1) - np.heaviside(t - (delay + pulse_width), 1))\n",
    "    reflected = Gamma * reflected_window\n",
    "\n",
    "    signal_total = pulse + reflected\n",
    "    return signal_total, delay, pulse_width\n",
    "\n",
    "# Extend time to go slightly beyond the reflection\n",
    "T_end = 2*length/v + 200e-9\n",
    "_t = np.arange(0, T_end, dt)\n",
    "\n",
    "plt.figure(figsize=(10,4))\n",
    "for ZL, label in [(ZL_open,\"Open\"), (ZL_match,\"Matched\"), (ZL_short,\"Short\")]:\n",
    "    s, delay, pw = simulate_reflection(ZL, Z0, _t, length, v)\n",
    "    plt.plot(_t*1e9, s, label=label)\n",
    "# Annotate expected reflection arrival\n",
    "plt.axvline(x=delay*1e9, color='k', linestyle='--', alpha=0.5, label='Reflection ETA')\n",
    "plt.xlabel(\"Time [ns]\"); plt.ylabel(\"Voltage (arb.)\")\n",
    "plt.title(\"Reflected Pulse for Different Terminations (reflection marked)\")\n",
    "plt.legend(); plt.grid(True)\n",
    "plt.xlim(0, (delay + 3*pw)*1e9)\n",
    "plt.show()\n"
   ],
   "id": "bbef5f1dbf938586"
  },
  {
   "metadata": {},
   "cell_type": "markdown",
   "source": [
    "### 🔍 Prediction\n",
    "\n",
    "Before running the next cell:\n",
    "\n",
    "- If the cable is **open**, what sign do you expect for the reflection (positive or inverted)?\n",
    "- If it's **shorted**, how will the reflection look?\n",
    "- If it's **matched**, will you see a reflection at all?\n",
    "\n",
    "Write your predictions here:\n",
    "\n",
    "\n",
    "(Students write under this cell — small engagement step.)\n",
    "\n",
    "# Quick check: verify a visible reflection for Open/Short vs Matched\n",
    "s_open, delay, pw = simulate_reflection(ZL_open, Z0, _t, length, v)\n",
    "s_match, _, _ = simulate_reflection(ZL_match, Z0, _t, length, v)\n",
    "pre = (_t >= (delay - 5*pw)) & (_t < delay)\n",
    "post = (_t >= delay) & (_t < delay + 5*pw)\n",
    "contrast_open = float(np.max(s_open[post]) - np.mean(s_open[pre]))\n",
    "contrast_match = float(np.max(s_match[post]) - np.mean(s_match[pre]))\n",
    "print(f\"Reflection contrast (Open) ~ {contrast_open:.3f}, (Matched) ~ {contrast_match:.3f}\")\n",
    "\n",
    "# Learning Note:\n",
    "# The second bump is the reflection.\n",
    "# Open = same polarity, Short = inverted, Matched = no bump."
   ],
   "id": "864735b6df6cf929"
  },
  {
   "metadata": {},
   "cell_type": "markdown",
   "source": [
    "When a digital pulse (like an Ethernet bit) reaches the cable end:\n",
    "- If the end impedance ≠ cable impedance, some energy **reflects back**.\n",
    "- These reflections interfere with upcoming bits, causing jitter or misreads.\n",
    "- Ethernet solves this by **impedance matching** and **differential signaling**.\n",
    "\n",
    "If cable length ≈ bit time × velocity, reflections overlap with live data — this defines **collision domain length**.\n",
    "\n",
    "> Note on fix: The reflection bump looked flat earlier because the window for the reflected pulse was mis-specified and the plot ended right at the round-trip time. We corrected the window to u(t - delay) - u(t - (delay + width)), increased the pulse width to 50 ns for visibility, and extended the time axis slightly beyond the reflection arrival. You should now clearly see the second bump at the dashed line for open/short, and no bump for the matched load.\n"
   ],
   "id": "be8e667b8f3cff6c"
  },
  {
   "metadata": {},
   "cell_type": "code",
   "outputs": [],
   "execution_count": null,
   "source": [
    "# 🧩 Interactive Reflection Visualizer (optional)\n",
    "from ipywidgets import interact, FloatSlider\n",
    "\n",
    "def reflection_demo(length=50, v=2e8, ZL=1e6):\n",
    "    Z0 = 50\n",
    "    t = np.arange(0, 3e-6, 1e-9)\n",
    "    Gamma = (ZL - Z0) / (ZL + Z0)\n",
    "    pulse_width = 20e-9\n",
    "    pulse = np.where((t >= 0) & (t <= pulse_width), 1.0, 0.0)\n",
    "    delay = 2 * length / v\n",
    "    reflected = np.where((t >= delay) & (t <= delay + pulse_width), Gamma, 0.0)\n",
    "    total = pulse + reflected\n",
    "\n",
    "    plt.figure(figsize=(8,4))\n",
    "    plt.plot(t*1e9, total)\n",
    "    plt.title(f\"Reflection Simulation — Length={length:.0f} m, Γ={Gamma:.2f}\")\n",
    "    plt.xlabel(\"Time [ns]\")\n",
    "    plt.ylabel(\"Voltage (arb.)\")\n",
    "    plt.grid(True)\n",
    "    plt.show()\n",
    "\n",
    "interact(reflection_demo,\n",
    "         length=FloatSlider(10, 10, 200, step=10, description=\"Cable (m)\"),\n",
    "         v=FloatSlider(2e8, 1.5e8, 3e8, step=0.1e8, description=\"Velocity\"),\n",
    "         ZL=FloatSlider(0, 1000, 1e6, step=50, description=\"Load Ω (∞=open)\"));\n"
   ],
   "id": "678878b71f7ec557"
  },
  {
   "metadata": {},
   "cell_type": "markdown",
   "source": [
    "### 🌐 Networking Analogy — Collisions and Echoes\n",
    "\n",
    "| Concept | Physical meaning | Networking meaning |\n",
    "|----------|------------------|--------------------|\n",
    "| Reflection coefficient Γ | Fraction of signal returning | Portion of bit energy echoing back |\n",
    "| Matched termination | No reflection | Stable symbol sampling |\n",
    "| Open/short cable | Total reflection | Signal bounce, garbled bits |\n",
    "| Round-trip delay | 2 × length / velocity | Collision detection window |\n",
    "| TDR pulse test | Reflected echo reveals fault | Used in cable testers (Time-Domain Reflectometers) |\n",
    "\n",
    "In Ethernet, a TDR uses the same math to locate cable breaks — by measuring the time until the echo returns and dividing by \\(2v\\).\n",
    "\n",
    "| Concept | Physical Behavior | Networking Consequence |\n",
    "|----------|------------------|------------------------|\n",
    "| Impedance mismatch | Reflected voltage wave | Bit error or collision |\n",
    "| Proper termination | Full energy absorbed | Clean transitions, stable PHY |\n",
    "| Cable length limit | Round-trip delay < slot time | CSMA/CD can detect collisions |\n",
    "| Reflection coefficient | Signal echo strength | Return loss in dB |\n",
    "| Short/Open fault | +1 or -1 reflection | Detected by TDR (Time-Domain Reflectometer) |\n",
    "\n",
    "So “wire reflections” are the **physical layer origin** of why Ethernet once had maximum cable lengths (e.g., 100m for twisted pair).\n"
   ],
   "id": "d9c979c6f16b5f97"
  },
  {
   "metadata": {
    "ExecuteTime": {
     "end_time": "2025-10-05T15:18:11.834899Z",
     "start_time": "2025-10-05T15:18:11.807116Z"
    }
   },
   "cell_type": "code",
   "source": [
    "sig_open = simulate_reflection(ZL_open, Z0, t, length, v)\n",
    "f = np.fft.fftreq(len(t), dt)\n",
    "S_open = np.abs(np.fft.fft(sig_open))\n",
    "\n",
    "plt.figure(figsize=(10,4))\n",
    "plt.plot(f[:len(f)//2]/1e6, S_open[:len(S_open)//2])\n",
    "plt.xlabel(\"Frequency [MHz]\"); plt.ylabel(\"|Spectrum|\")\n",
    "plt.title(\"Frequency Response with Open-Termination Reflection\")\n",
    "plt.grid(True); plt.show()"
   ],
   "id": "5e3fdbaf492c2092",
   "outputs": [
    {
     "ename": "AttributeError",
     "evalue": "module 'numpy.fft' has no attribute 'fftreq'",
     "output_type": "error",
     "traceback": [
      "\u001B[31m---------------------------------------------------------------------------\u001B[39m",
      "\u001B[31mAttributeError\u001B[39m                            Traceback (most recent call last)",
      "\u001B[36mCell\u001B[39m\u001B[36m \u001B[39m\u001B[32mIn[29]\u001B[39m\u001B[32m, line 2\u001B[39m\n\u001B[32m      1\u001B[39m sig_open = simulate_reflection(ZL_open, Z0, t, length, v)\n\u001B[32m----> \u001B[39m\u001B[32m2\u001B[39m f = \u001B[43mnp\u001B[49m\u001B[43m.\u001B[49m\u001B[43mfft\u001B[49m\u001B[43m.\u001B[49m\u001B[43mfftreq\u001B[49m(\u001B[38;5;28mlen\u001B[39m(t), dt)\n\u001B[32m      3\u001B[39m S_open = np.abs(np.fft.fft(sig_open))\n\u001B[32m      5\u001B[39m plt.figure(figsize=(\u001B[32m10\u001B[39m,\u001B[32m4\u001B[39m))\n",
      "\u001B[31mAttributeError\u001B[39m: module 'numpy.fft' has no attribute 'fftreq'"
     ]
    }
   ],
   "execution_count": 29
  },
  {
   "metadata": {},
   "cell_type": "markdown",
   "source": [
    "### 🧠 How to Read the Plot\n",
    "\n",
    "- The **first bump** at \\(t=0\\) ns is the transmitted pulse.\n",
    "- The **second** bump, appearing after \\(t = 2L/v\\), is the reflected pulse.\n",
    "- **Open load:** same polarity reflection (Γ ≈ +1)\n",
    "- **Short load:** inverted reflection (Γ ≈ –1)\n",
    "- **Matched load:** no visible reflection (Γ ≈ 0)\n",
    "\n",
    "**Why this matters:**  \n",
    "Reflections distort voltage levels. If they overlap the next bit period, the receiver may interpret a “1” as “0” or vice versa.\n",
    "Ethernet’s maximum cable length ensures the round-trip delay is shorter than one collision-detection slot (51.2 µs for 10 Mb/s).\n"
   ],
   "id": "aad34aa525a96655"
  },
  {
   "metadata": {},
   "cell_type": "code",
   "outputs": [],
   "execution_count": null,
   "source": "",
   "id": "9569b3d6fab8f6db"
  },
  {
   "metadata": {},
   "cell_type": "markdown",
   "source": [
    "### ✅ Quick Self-Check\n",
    "\n",
    "1. What does a reflection coefficient of +1, 0, and −1 correspond to physically?\n",
    "2. Why does matching \\(Z_L = Z_0\\) eliminate reflections?\n",
    "3. If a 100 m Cat-5 cable shows an echo 1 µs after the pulse, what’s the approximate propagation speed?\n",
    "4. How does Ethernet’s 100 m limit relate to round-trip delay?\n",
    "\n",
    "*(Answer these before checking the reference sheet.)*\n"
   ],
   "id": "36eee686272f5ba9"
  },
  {
   "metadata": {},
   "cell_type": "markdown",
   "source": [
    "### 🛠️ Real-World Connection\n",
    "\n",
    "If you have access to a network cable tester (Fluke, Klein, etc.), it performs exactly this simulation in hardware:\n",
    "it sends a voltage pulse, measures reflections, and displays **distance to fault** based on the echo delay.\n",
    "\n",
    "So your simulation = digital version of a **Time-Domain Reflectometer (TDR)** — the same instrument testers use to find opens/shorts.\n"
   ],
   "id": "c822e794026173e5"
  }
 ],
 "metadata": {
  "kernelspec": {
   "display_name": "Python 3",
   "language": "python",
   "name": "python3"
  },
  "language_info": {
   "codemirror_mode": {
    "name": "ipython",
    "version": 2
   },
   "file_extension": ".py",
   "mimetype": "text/x-python",
   "name": "python",
   "nbconvert_exporter": "python",
   "pygments_lexer": "ipython2",
   "version": "2.7.6"
  }
 },
 "nbformat": 4,
 "nbformat_minor": 5
}
