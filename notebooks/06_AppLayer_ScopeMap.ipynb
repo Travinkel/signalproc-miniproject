{
 "cells": [
  {
   "cell_type": "code",
   "id": "initial_id",
   "metadata": {
    "collapsed": true,
    "ExecuteTime": {
     "end_time": "2025-10-06T15:10:23.071991Z",
     "start_time": "2025-10-06T15:10:23.067484Z"
    }
   },
   "source": [
    "# Common imports\n",
    "import numpy as np\n",
    "import matplotlib.pyplot as plt\n",
    "import scipy.signal as signal\n",
    "\n",
    "# Networking/packet analysis\n",
    "import pyshark\n",
    "import scapy.all as scapy\n",
    "import networkx as nx\n",
    "from ipywidgets import interact, Dropdown\n",
    "\n",
    "\n",
    "# Helper: inline plots\n",
    "%matplotlib inline\n"
   ],
   "outputs": [],
   "execution_count": 6
  },
  {
   "metadata": {},
   "cell_type": "markdown",
   "source": [
    "# App Layer Scope Map — Packet Visibility\n",
    "\n",
    "**Goal:** Visualize broadcast, multicast, unicast flows.\n"
   ],
   "id": "bea5a9956dd84ce9"
  },
  {
   "metadata": {
    "ExecuteTime": {
     "end_time": "2025-10-06T15:10:23.106393Z",
     "start_time": "2025-10-06T15:10:23.099506Z"
    }
   },
   "cell_type": "code",
   "source": [
    "# small network graph\n",
    "G = nx.Graph()\n",
    "edges = [\n",
    "    (\"HostA\",\"Switch1\"), (\"HostB\",\"Switch1\"), (\"Router\",\"Switch1\"),\n",
    "    (\"Router\",\"Switch2\"), (\"HostC\",\"Switch2\"), (\"HostD\",\"Switch2\")\n",
    "]\n",
    "\n",
    "G.add_edges_from(edges)\n",
    "pos = nx.spring_layout(G, seed=42)"
   ],
   "id": "4655640d71b9954",
   "outputs": [],
   "execution_count": 7
  },
  {
   "metadata": {
    "ExecuteTime": {
     "end_time": "2025-10-06T15:10:23.230268Z",
     "start_time": "2025-10-06T15:10:23.119418Z"
    }
   },
   "cell_type": "code",
   "source": [
    "from ipywidgets import Dropdown\n",
    "\n",
    "\n",
    "def scope_map(mode=\"unicast\"):\n",
    "    plt.figure(figsize=(6,4))\n",
    "    colors = []\n",
    "    if mode == \"unicast\":\n",
    "        src, dst = \"HostA\",\"HostC\"\n",
    "        nx.draw(G, pos, with_labels=True, node_color=\"lightgray\")\n",
    "        nx.draw_networkx_edges(G, pos, edgelist=[(\"HostA\",\"Switch1\"),(\"Switch1\",\"Router\"),(\"Router\",\"Switch2\"),(\"Switch2\",\"HostC\")],\n",
    "                               edge_color=\"blue\", width=3)\n",
    "        plt.title(\"Unicast: direct path HostA → HostC\")\n",
    "    elif mode == \"broadcast\":\n",
    "        nx.draw(G, pos, with_labels=True, node_color=\"mistyrose\")\n",
    "        plt.title(\"Broadcast: frame flooded to all nodes within domain\")\n",
    "    elif mode == \"multicast\":\n",
    "        members = [\"HostA\",\"HostC\",\"HostD\"]\n",
    "        color_map = [\"lightgreen\" if n in members else \"lightgray\" for n in G]\n",
    "        nx.draw(G, pos, with_labels=True, node_color=color_map)\n",
    "        plt.title(\"Multicast: only subscribed members receive\")\n",
    "    plt.axis(\"off\"); plt.show()\n",
    "\n",
    "interact(scope_map, mode=Dropdown(options=[\"unicast\",\"broadcast\",\"multicast\"], value=\"unicast\"))\n"
   ],
   "id": "3b49c1b3078a6e71",
   "outputs": [
    {
     "data": {
      "text/plain": [
       "interactive(children=(Dropdown(description='mode', options=('unicast', 'broadcast', 'multicast'), value='unica…"
      ],
      "application/vnd.jupyter.widget-view+json": {
       "version_major": 2,
       "version_minor": 0,
       "model_id": "ef62e088ef5b4a3a90dc4d97e07a702e"
      }
     },
     "metadata": {},
     "output_type": "display_data"
    },
    {
     "data": {
      "text/plain": [
       "<function __main__.scope_map(mode='unicast')>"
      ]
     },
     "execution_count": 8,
     "metadata": {},
     "output_type": "execute_result"
    }
   ],
   "execution_count": 8
  },
  {
   "metadata": {},
   "cell_type": "markdown",
   "source": [
    "### Application-Layer View\n",
    "| Mode | Who receives | Typical example | Protocols |\n",
    "|------|---------------|-----------------|------------|\n",
    "| Unicast | one peer | HTTP request | TCP |\n",
    "| Broadcast | everyone on link | ARP, DHCP-DISCOVER | UDP |\n",
    "| Multicast | selected group | IPTV, group chat | UDP + IGMP |\n",
    "\n",
    "These scopes sit *on top of* the same physical medium you analyzed before:\n",
    "- **Reflections** (WireScope) limit how far the wave can go.\n",
    "- **Collisions** (CSMA/CD) decide who speaks when.\n",
    "- **RTT** (TCP lab) controls latency at session setup.\n",
    "- At the application layer, these constraints define *reachability* and *performance.*\n"
   ],
   "id": "8f8b4b8d37053655"
  },
  {
   "metadata": {
    "ExecuteTime": {
     "end_time": "2025-10-06T15:10:23.322296Z",
     "start_time": "2025-10-06T15:10:23.310286Z"
    }
   },
   "cell_type": "code",
   "source": [
    "import random, time\n",
    "\n",
    "def simulate_flood(start=\"HostA\", mode=\"broadcast\"):\n",
    "    reached = set()\n",
    "    frontier = [start]\n",
    "    steps = []\n",
    "    while frontier:\n",
    "        next_frontier=[]\n",
    "        for node in frontier:\n",
    "            reached.add(node)\n",
    "            for n in G.neighbors(node):\n",
    "                if n not in reached:\n",
    "                    next_frontier.append(n)\n",
    "        frontier=next_frontier\n",
    "        steps.append(reached.copy())\n",
    "    return steps\n",
    "\n",
    "steps = simulate_flood()\n",
    "for i,s in enumerate(steps,1):\n",
    "    print(f\"Step {i}: {sorted(list(s))}\")\n"
   ],
   "id": "7aba7f5a848270a6",
   "outputs": [
    {
     "name": "stdout",
     "output_type": "stream",
     "text": [
      "Step 1: ['HostA']\n",
      "Step 2: ['HostA', 'Switch1']\n",
      "Step 3: ['HostA', 'HostB', 'Router', 'Switch1']\n",
      "Step 4: ['HostA', 'HostB', 'Router', 'Switch1', 'Switch2']\n",
      "Step 5: ['HostA', 'HostB', 'HostC', 'HostD', 'Router', 'Switch1', 'Switch2']\n"
     ]
    }
   ],
   "execution_count": 9
  },
  {
   "metadata": {},
   "cell_type": "markdown",
   "source": [
    "### From Physical to Application Scope\n",
    "\n",
    "| Layer | “Scope” Meaning | Constraint Source |\n",
    "|--------|-----------------|-------------------|\n",
    "| Physical | Distance cable can carry signal | attenuation, reflections |\n",
    "| Data Link | Devices sharing one collision domain | propagation delay |\n",
    "| Network | Devices sharing one IP subnet | router separation |\n",
    "| Transport | End-to-end pair connection | RTT, congestion |\n",
    "| Application | Who receives message or session | unicast/broadcast/multicast rules |\n",
    "\n",
    "**Observation:** every upper-layer scope is *bounded* by the lower-layer physics.\n"
   ],
   "id": "b4d0b2411e92bc4f"
  },
  {
   "metadata": {},
   "cell_type": "markdown",
   "source": [
    "1. Why can’t broadcast traffic cross routers by default?\n",
    "2. What physical-layer limits still apply to application traffic?\n",
    "3. How does multicast efficiency depend on proper lower-layer timing?\n",
    "4. Give a real-world case where excessive broadcast load (ARP storms, DHCP) hurts app performance.\n"
   ],
   "id": "9e34ca942173b477"
  },
  {
   "metadata": {},
   "cell_type": "markdown",
   "source": [
    "**Summary — “From Waves to Web”**\n",
    "\n",
    "- A web request’s unicast packet rides on a TCP session (Lab 05).\n",
    "- That TCP session rides on frames sharing a medium governed by CSMA/CD (Lab 04).\n",
    "- Those frames propagate along cables whose reflections you analyzed (Lab 02).\n",
    "- And their electrical signals obey Nyquist’s limits (Lab 01).\n",
    "\n",
    "At the top, the application’s **scope**—who hears the message—is the human-visible effect of every physical decision beneath it.\n"
   ],
   "id": "178e2bcab2c1d4b"
  }
 ],
 "metadata": {
  "kernelspec": {
   "display_name": "Python 3",
   "language": "python",
   "name": "python3"
  },
  "language_info": {
   "codemirror_mode": {
    "name": "ipython",
    "version": 2
   },
   "file_extension": ".py",
   "mimetype": "text/x-python",
   "name": "python",
   "nbconvert_exporter": "python",
   "pygments_lexer": "ipython2",
   "version": "2.7.6"
  }
 },
 "nbformat": 4,
 "nbformat_minor": 5
}
