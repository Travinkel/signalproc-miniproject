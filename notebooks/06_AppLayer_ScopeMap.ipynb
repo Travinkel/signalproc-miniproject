{
 "cells": [
  {
   "cell_type": "code",
   "execution_count": null,
   "id": "initial_id",
   "metadata": {
    "collapsed": true
   },
   "outputs": [],
   "source": [
    "# Common imports\n",
    "import numpy as np\n",
    "import matplotlib.pyplot as plt\n",
    "import scipy.signal as signal\n",
    "\n",
    "# Networking/packet analysis\n",
    "import pyshark\n",
    "import scapy.all as scapy\n",
    "import networkx as nx\n",
    "\n",
    "# Helper: inline plots\n",
    "%matplotlib inline\n"
   ]
  },
  {
   "metadata": {},
   "cell_type": "markdown",
   "source": [
    "# App Layer Scope Map — Packet Visibility\n",
    "\n",
    "**Goal:** Visualize broadcast, multicast, unicast flows.\n"
   ],
   "id": "bea5a9956dd84ce9"
  },
  {
   "metadata": {},
   "cell_type": "code",
   "outputs": [],
   "execution_count": null,
   "source": [
    "# TODO: Create toy socket client/server.\n",
    "# TODO: Send broadcast + multicast + unicast packets.\n",
    "# TODO: Capture with Wireshark, build flow diagram.\n",
    "# HINT: Use networkx to visualize nodes + edges.\n"
   ],
   "id": "4655640d71b9954"
  }
 ],
 "metadata": {
  "kernelspec": {
   "display_name": "Python 3",
   "language": "python",
   "name": "python3"
  },
  "language_info": {
   "codemirror_mode": {
    "name": "ipython",
    "version": 2
   },
   "file_extension": ".py",
   "mimetype": "text/x-python",
   "name": "python",
   "nbconvert_exporter": "python",
   "pygments_lexer": "ipython2",
   "version": "2.7.6"
  }
 },
 "nbformat": 4,
 "nbformat_minor": 5
}
